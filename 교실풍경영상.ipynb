{
  "nbformat": 4,
  "nbformat_minor": 0,
  "metadata": {
    "colab": {
      "private_outputs": true,
      "provenance": [],
      "gpuType": "T4",
      "authorship_tag": "ABX9TyPeHNHIgcfY9WpZwMS4nC+w",
      "include_colab_link": true
    },
    "kernelspec": {
      "name": "python3",
      "display_name": "Python 3"
    },
    "language_info": {
      "name": "python"
    },
    "accelerator": "GPU"
  },
  "cells": [
    {
      "cell_type": "markdown",
      "metadata": {
        "id": "view-in-github",
        "colab_type": "text"
      },
      "source": [
        "<a href=\"https://colab.research.google.com/github/jetsonmom/guri_highschool/blob/main/%EA%B5%90%EC%8B%A4%ED%92%8D%EA%B2%BD%EC%98%81%EC%83%81.ipynb\" target=\"_parent\"><img src=\"https://colab.research.google.com/assets/colab-badge.svg\" alt=\"Open In Colab\"/></a>"
      ]
    },
    {
      "cell_type": "markdown",
      "source": [
        "1. yolov11 시작하기\n"
      ],
      "metadata": {
        "id": "8JJ07kqZhs93"
      }
    },
    {
      "cell_type": "code",
      "execution_count": null,
      "metadata": {
        "id": "REDJKycShbDN"
      },
      "outputs": [],
      "source": [
        "# yt-dlp 설치\n",
        "!pip install -U yt-dlp\n",
        "\n",
        "# 영상 다운로드\n",
        "!yt-dlp -f best -o \"video.mp4\" \"https://www.youtube.com/shorts/0N0iZudj0R4\"\n"
      ]
    },
    {
      "cell_type": "markdown",
      "source": [
        " 2. ultralytics 설치하기\n"
      ],
      "metadata": {
        "id": "ZcC8HAFYiSI_"
      }
    },
    {
      "cell_type": "code",
      "source": [
        "!pip install ultralytics\n"
      ],
      "metadata": {
        "id": "DYawddyxiQ7W"
      },
      "execution_count": null,
      "outputs": []
    },
    {
      "cell_type": "markdown",
      "source": [
        "3. YOLOv11 모델 로드 및 객체 인식 수행"
      ],
      "metadata": {
        "id": "cahZ8hRwiac2"
      }
    },
    {
      "cell_type": "code",
      "source": [
        "from ultralytics import YOLO\n",
        "\n",
        "# COCO 데이터셋으로 사전 학습된 YOLOv11n 모델 로드\n",
        "model = YOLO(\"yolo11n.pt\")\n",
        "\n",
        "# 영상 파일 경로\n",
        "video_path = \"video.mp4\"\n",
        "\n",
        "# 객체 인식 수행\n",
        "results = model.track(source=video_path, show=True, stream=True)\n"
      ],
      "metadata": {
        "id": "UUIgJlqfiemv"
      },
      "execution_count": null,
      "outputs": []
    },
    {
      "cell_type": "code",
      "source": [
        "from ultralytics import YOLO\n",
        "import os\n",
        "from IPython.display import Video, display\n",
        "\n",
        "# 모델 로드\n",
        "model = YOLO(\"yolo11n.pt\")\n",
        "\n",
        "# 출력 폴더 생성\n",
        "os.makedirs(\"output\", exist_ok=True)\n",
        "\n",
        "# 추적 실행 후 결과 저장\n",
        "results = model.track(source=\"video.mp4\", save=True, save_dir=\"output\", conf=0.3)\n",
        "\n",
        "# 결과 영상 찾기\n",
        "output_path = None\n",
        "for root, dirs, files in os.walk(\"output\"):\n",
        "    for file in files:\n",
        "        if file.endswith(\".mp4\"):\n",
        "            output_path = os.path.join(root, file)\n",
        "\n",
        "# 영상 재생\n",
        "if output_path:\n",
        "    print(\"✅ 결과 영상:\")\n",
        "    display(Video(output_path, embed=True))\n",
        "else:\n",
        "    print(\"❌ 결과 영상이 없습니다.\")\n"
      ],
      "metadata": {
        "id": "VzPWdlzxnSEp"
      },
      "execution_count": null,
      "outputs": []
    },
    {
      "cell_type": "code",
      "source": [
        "# 1. 필요 패키지 설치\n",
        "!pip install -U ultralytics\n",
        "\n",
        "# 2. 라이브러리 임포트\n",
        "from ultralytics import YOLO\n",
        "import os\n",
        "from IPython.display import Video, display\n",
        "\n",
        "# 3. 모델 로드\n",
        "model = YOLO(\"yolo11n.pt\")  # yolo11n.pt 파일이 현재 디렉토리에 있어야 함\n",
        "\n",
        "# 4. 출력 디렉터리 생성\n",
        "os.makedirs(\"output\", exist_ok=True)\n",
        "\n",
        "# 5. 객체 추적 실행 및 결과 저장\n",
        "results = model.track(source=\"video.mp4\", save=True, save_dir=\"output\", conf=0.3)\n",
        "\n",
        "# 6. 저장된 결과 영상 찾기\n",
        "output_path = None\n",
        "for root, dirs, files in os.walk(\"output\"):\n",
        "    for file in files:\n",
        "        if file.endswith(\".mp4\"):\n",
        "            output_path = os.path.join(root, file)\n",
        "\n",
        "# 7. Colab에서 결과 영상 표시\n",
        "if output_path:\n",
        "    print(\"✅ 객체 추적 결과 영상:\")\n",
        "    display(Video(output_path, embed=True))\n",
        "else:\n",
        "    print(\"❌ 결과 영상이 없습니다.\")\n"
      ],
      "metadata": {
        "id": "cyGbpRDLnvU_"
      },
      "execution_count": null,
      "outputs": []
    },
    {
      "cell_type": "code",
      "source": [
        "# 1. yt-dlp 설치 및 영상 다운로드\n",
        "!pip install -U yt-dlp\n",
        "\n",
        "# Shorts 영상 다운로드 (mp4로 저장)\n",
        "!yt-dlp -f best -o \"video.mp4\" \"https://www.youtube.com/shorts/0N0iZudj0R4\"\n",
        "\n",
        "# 2. YOLO (Ultralytics) 설치\n",
        "!pip install -U ultralytics\n",
        "\n",
        "# 3. YOLO 모델 로드 및 추론\n",
        "from ultralytics import YOLO\n",
        "import os\n",
        "\n",
        "# output 디렉터리 생성\n",
        "os.makedirs(\"output\", exist_ok=True)\n",
        "\n",
        "# YOLOv11 모델 사용 (v11은 아직 베타/비공식)\n",
        "model = YOLO(\"yolov11n.pt\")\n",
        "\n",
        "\n",
        "# 영상에서 객체 감지 및 결과 저장\n",
        "results = model.predict(source=\"video.mp4\", save=True, save_dir=\"output\", conf=0.3)\n",
        "\n",
        "# 4. 결과 영상 확인\n",
        "from IPython.display import Video\n",
        "\n",
        "# 저장된 결과 영상 이름 가져오기\n",
        "output_video_path = None\n",
        "for f in os.listdir(\"output/predict\"):\n",
        "    if f.endswith(\".mp4\"):\n",
        "        output_video_path = os.path.join(\"output/predict\", f)\n",
        "\n",
        "# Colab에서 영상 재생\n",
        "if output_video_path:\n",
        "    print(\"✅ 객체 인식 결과 영상:\")\n",
        "    display(Video(output_video_path, embed=True))\n",
        "else:\n",
        "    print(\"❌ 결과 영상이 생성되지 않았습니다.\")\n"
      ],
      "metadata": {
        "id": "D3DPbLpMjcDt"
      },
      "execution_count": null,
      "outputs": []
    }
  ]
}