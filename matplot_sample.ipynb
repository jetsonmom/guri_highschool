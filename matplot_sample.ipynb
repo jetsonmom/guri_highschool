{
  "nbformat": 4,
  "nbformat_minor": 0,
  "metadata": {
    "colab": {
      "private_outputs": true,
      "provenance": [],
      "authorship_tag": "ABX9TyPj3apWbIHeeJU595ArUaKK",
      "include_colab_link": true
    },
    "kernelspec": {
      "name": "python3",
      "display_name": "Python 3"
    },
    "language_info": {
      "name": "python"
    }
  },
  "cells": [
    {
      "cell_type": "markdown",
      "metadata": {
        "id": "view-in-github",
        "colab_type": "text"
      },
      "source": [
        "<a href=\"https://colab.research.google.com/github/jetsonmom/guri_highschool/blob/main/matplot_sample.ipynb\" target=\"_parent\"><img src=\"https://colab.research.google.com/assets/colab-badge.svg\" alt=\"Open In Colab\"/></a>"
      ]
    },
    {
      "cell_type": "code",
      "execution_count": null,
      "metadata": {
        "id": "xZV89h3Ur2Rh"
      },
      "outputs": [],
      "source": [
        "import numpy as np\n",
        "import matplotlib.pyplot as plt\n",
        "\n",
        "t = np.linspace(0, 2*np.pi, 1000)\n",
        "x = 16 * np.sin(t)**3\n",
        "y = 13*np.cos(t) - 5*np.cos(2*t) - 2*np.cos(3*t) - np.cos(4*t)\n",
        "\n",
        "fig, ax = plt.subplots(figsize=(8, 8))\n",
        "ax.fill(x, y, color='red', alpha=0.8)\n",
        "ax.plot(x, y, color='darkred', linewidth=2)\n",
        "ax.set_aspect('equal')\n",
        "ax.axis('off')\n",
        "plt.title('❤️', size=50)\n",
        "plt.tight_layout()\n",
        "plt.show()"
      ]
    }
  ]
}